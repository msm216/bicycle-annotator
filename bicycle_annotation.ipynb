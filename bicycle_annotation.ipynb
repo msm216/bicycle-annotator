{
 "cells": [
  {
   "cell_type": "markdown",
   "metadata": {},
   "source": [
    "#### Structure of the data: anonymized_project.json\n",
    "```json\n",
    "{\n",
    "    \"results\": {\n",
    "        \"root_node\": {\n",
    "            \"gui_type\": \"discrete_answer\",\n",
    "            \"results\": {\n",
    "                \"7e8984b6-dff7-4015-865a-b721a2faf681\": {\n",
    "                    \"results\": [\n",
    "                        {\n",
    "                            \"task_input\": {\n",
    "                                \"image_url\": \"https://qm-auto-annotator.s3.eu-central-1.amazonaws.com/bicycles/img_4686.jpg\"\n",
    "                            },\n",
    "                            \"created_at\": \"2021-02-25T14:08:11.319438+00:00\",\n",
    "                            \"workpackage_total_size\": 5,\n",
    "                            \"loss\": 0.0,\n",
    "                            \"project_node_input_id\": \"7e8984b6-dff7-4015-865a-b721a2faf681\",\n",
    "                            \"project_node_output_id\": \"0000439a-96ac-4bd4-8753-a4baa229ecf2\",\n",
    "                            \"task_output\": {\n",
    "                                \"answer\": \"no\",\n",
    "                                \"cant_solve\": false,\n",
    "                                \"corrupt_data\": false,\n",
    "                                \"duration_ms\": 997\n",
    "                            },\n",
    "                            \"user\": {\n",
    "                                \"vendor_id\": \"vendor_01\",\n",
    "                                \"id\": \"08af8775-a72c-4c59-b60f-9ce7df04fa92\",\n",
    "                                \"vendor_user_id\": \"annotator_12\"\n",
    "                            },\n",
    "                            \"root_input\": {\n",
    "                                \"image_url\": \"https://qm-auto-annotator.s3.eu-central-1.amazonaws.com/bicycles/img_4686.jpg\"\n",
    "                            },\n",
    "                            \"project_root_node_input_id\": \"7e8984b6-dff7-4015-865a-b721a2faf681\"\n",
    "                        },\n",
    "                        ...(8)\n",
    "                       {\n",
    "                        ...\n",
    "                        }\n",
    "                     ],\n",
    "                     \"gui_type\": \"discrete_answer\"\n",
    "                 },\n",
    "                    ...(9085)\n",
    "                \"7e8984b6-dff7-4015-865a-b721a2faf681\": {\n",
    "                    \"results\": [\n",
    "                        ...(10)\n",
    "                     ],\n",
    "                     \"gui_type\": \"discrete_answer\"\n",
    "                 }\n",
    "            }\n",
    "        }\n",
    "    }\n",
    "}\n",
    "```"
   ]
  },
  {
   "cell_type": "markdown",
   "metadata": {},
   "source": [
    "#### Structure of the data: references.json\n",
    "```json\n",
    "{\n",
    "  \"img_4686\": { \"is_bicycle\": false },\n",
    "    ...(9085)\n",
    "  \"img_2866\": { \"is_bicycle\": true }\n",
    "}\n",
    "```"
   ]
  },
  {
   "cell_type": "code",
   "execution_count": null,
   "metadata": {},
   "outputs": [],
   "source": []
  },
  {
   "cell_type": "code",
   "execution_count": 11,
   "metadata": {},
   "outputs": [
    {
     "data": {
      "text/plain": [
       "\"\\nimport json\\nimport pandas as pd\\n\\ndff = pd.read_json('anonymized_project.json')\\n\\n# 使用 Python JSON 模块载入数据\\nwith open('anonymized_project.json','r') as ff:\\n    dataa = json.loads(ff.read())\\n\\n# 展平数据\\ndf_nested = pd.json_normalize(dataa, record_path =['results'])\\n\\n\""
      ]
     },
     "execution_count": 11,
     "metadata": {},
     "output_type": "execute_result"
    }
   ],
   "source": [
    "'''\n",
    "import json\n",
    "import pandas as pd\n",
    "\n",
    "dff = pd.read_json('anonymized_project.json')\n",
    "\n",
    "# 使用 Python JSON 模块载入数据\n",
    "with open('anonymized_project.json','r') as ff:\n",
    "    dataa = json.loads(ff.read())\n",
    "\n",
    "# 展平数据\n",
    "df_nested = pd.json_normalize(dataa, record_path =['results'])\n",
    "\n",
    "'''"
   ]
  },
  {
   "cell_type": "code",
   "execution_count": null,
   "metadata": {},
   "outputs": [],
   "source": [
    "\n",
    "\n",
    "# 使用 Python JSON 模块载入数据\n",
    "with open('anonymized_project.json','r') as ff:\n",
    "    dataa = json.loads(ff.read())\n",
    "\n",
    "# 展平数据\n",
    "df_nested = pd.json_normalize(dataa, record_path =['results'])\n"
   ]
  },
  {
   "cell_type": "code",
   "execution_count": null,
   "metadata": {},
   "outputs": [],
   "source": []
  },
  {
   "cell_type": "code",
   "execution_count": 12,
   "metadata": {},
   "outputs": [],
   "source": [
    "import os\n",
    "import time\n",
    "import pandas as pd\n",
    "import numpy as np\n",
    "import random\n",
    "import json\n",
    "import seaborn as sns\n",
    "import matplotlib.pyplot as plt\n",
    "import sklearn\n",
    "\n",
    "from time import time\n",
    "from sklearn.metrics import confusion_matrix\n"
   ]
  },
  {
   "cell_type": "code",
   "execution_count": 13,
   "metadata": {},
   "outputs": [],
   "source": [
    "# pip install pandas==1.1.3"
   ]
  },
  {
   "cell_type": "code",
   "execution_count": 14,
   "metadata": {},
   "outputs": [
    {
     "name": "stdout",
     "output_type": "stream",
     "text": [
      "There are 2 json-files available: anonymized_project.json and references.json\n"
     ]
    }
   ],
   "source": [
    "# find files of certain type under the current path\n",
    "def find_file(kw='json'):\n",
    "    path = os.getcwd()\n",
    "    # list of all files\n",
    "    content = os.listdir(path)\n",
    "    f_list = []\n",
    "    for file in content:\n",
    "        if kw in file:\n",
    "            f_list.append(file)\n",
    "            \n",
    "    return f_list\n",
    "\n",
    "# list of json files unter the path\n",
    "json_list = find_file('json')\n",
    "\n",
    "print(\"There are {0} json-files available: {1[0]} and {1[1]}\".format(len(json_list), json_list))"
   ]
  },
  {
   "cell_type": "code",
   "execution_count": 15,
   "metadata": {},
   "outputs": [
    {
     "name": "stdout",
     "output_type": "stream",
     "text": [
      "Number of crowds: 9087\n",
      "Number of references: 9087\n"
     ]
    }
   ],
   "source": [
    "# read anonymized_project.json\n",
    "with open(json_list[0], 'r') as f1:\n",
    "    anno = json.load(f1)\n",
    "    \n",
    "# read references.json\n",
    "with open(json_list[1], 'r') as f2:\n",
    "    ref = json.load(f2)\n",
    "\n",
    "# dict, length 1\n",
    "result = anno['results']\n",
    "# dict, length 2\n",
    "root = result['root_node']\n",
    "# dict, length 9087\n",
    "crowds = root['results']\n",
    "\n",
    "print(\"Number of crowds: {}\".format(len(crowds)))\n",
    "print(\"Number of references: {}\".format(len(ref)))"
   ]
  },
  {
   "cell_type": "code",
   "execution_count": 16,
   "metadata": {},
   "outputs": [
    {
     "name": "stdout",
     "output_type": "stream",
     "text": [
      "Processing done! 11.99 seconds passed.770-a790bfcff241, 100.0% [9087/9087]\r"
     ]
    }
   ],
   "source": [
    "# extract the needed information from each task\n",
    "def crowd_extractor(crowd):\n",
    "    '''\n",
    "    A crowd object must be a dictionary under the root_node['results'], which contains 10 \n",
    "    tasks/annotations as it's own 'result'. Tasks are contained in a LIST under the chosen \n",
    "    crowd. \n",
    "    For example: \n",
    "    A crowd: crowds['7e8984b6-dff7-4015-865a-b721a2faf681'] contains 10 tasks (dictionary), \n",
    "    which are contained in list: crowds['7e8984b6-dff7-4015-865a-b721a2faf681']['results'].\n",
    "    The output of this function is a 'list of lists' with needed information about the \n",
    "    tasks/annoations under the input crowd.\n",
    "    '''\n",
    "    crowd_info = []\n",
    "    \n",
    "    for task in crowd['results']:\n",
    "        # extract information of the task\n",
    "        url = task['task_input']['image_url']\n",
    "        image = url.replace(\n",
    "            'https://qm-auto-annotator.s3.eu-central-1.amazonaws.com/bicycles/', ''\n",
    "        ).replace(\n",
    "            '.jpg', ''\n",
    "        )\n",
    "        # name of annotators\n",
    "        user = task['user']['vendor_user_id']\n",
    "        # 'yes/no' to '1/0', NaN if no answer\n",
    "        answer = task['task_output']['answer']\n",
    "        # 'True/False' to '1/0'\n",
    "        solvable = int(not task['task_output']['cant_solve'])\n",
    "        corrupt = int(task['task_output']['corrupt_data'])\n",
    "        # duration in millisecond\n",
    "        duration = int(task['task_output']['duration_ms'])\n",
    "        # collect the information\n",
    "        task_info = [\n",
    "            image,\n",
    "            user,\n",
    "            answer,\n",
    "            solvable,\n",
    "            corrupt,\n",
    "            duration\n",
    "        ]\n",
    "        # add to upper list\n",
    "        crowd_info.append(task_info)\n",
    "    \n",
    "    return crowd_info\n",
    "\n",
    "\n",
    "# iterate over all crowds and build a DataFrame\n",
    "def build_data(crowds=crowds, ref=ref):\n",
    "    '''\n",
    "    The crowds object here means the root_node['results'], which contains 9087 dictionaries \n",
    "    (crowd). Each crowd has its own individual key\n",
    "    For example: \n",
    "    A crowd: crowds['7e8984b6-dff7-4015-865a-b721a2faf681'] contains 10 tasks (dictionary), \n",
    "    which are contained in list: crowds['7e8984b6-dff7-4015-865a-b721a2faf681']['results'].\n",
    "    The output of this function is a 'pandas.DataFrame' with needed information from the \n",
    "    hole data set.\n",
    "    '''\n",
    "    info = []\n",
    "    #set up timer\n",
    "    start = time()\n",
    "    total = len(crowds.keys())\n",
    "    i = 0\n",
    "    \n",
    "    for key in crowds.keys():\n",
    "        i += 1\n",
    "        percent = round(1.0 * i / total * 100, 2)\n",
    "        # extract crowd information\n",
    "        crowd = crowds[str(key)]\n",
    "        crowd_info = crowd_extractor(crowd)\n",
    "        info.extend(crowd_info)\n",
    "        print(\n",
    "            \"Processing crowd: {0}, {1} [{2}/{3}]\".format(key, str(percent)+'%', i, total), \n",
    "            end=\"\\r\"\n",
    "        )\n",
    "        #time.sleep(0.01)\n",
    "    print(\"Processing done! {:.2f} seconds passed.\".format((time() - start)), end=\"\\r\")\n",
    "    \n",
    "    # build DataFrame\n",
    "    result = pd.DataFrame(\n",
    "        info, columns=[\n",
    "            'image','user','answer','solvable','corrupt','duration'\n",
    "        ]\n",
    "    )\n",
    "    # quantify the answers\n",
    "    num_encode = {\"answer\": {\"yes\": 1, \"no\": 0, \"\": np.nan}}\n",
    "    result.replace(num_encode, inplace=True)\n",
    "    # add column of references\n",
    "    result['reference'] = result.apply(\n",
    "        lambda x: int(ref[x['image']]['is_bicycle']), \n",
    "        axis=1\n",
    "    )\n",
    "    # add column of correctness\n",
    "    result['correct'] = result.apply(\n",
    "        lambda x: int(x['answer']==x['reference']),\n",
    "        axis=1\n",
    "    )\n",
    "    \n",
    "    return result\n",
    "\n",
    "\n",
    "# build the DataFrame\n",
    "data_full = build_data()"
   ]
  },
  {
   "cell_type": "code",
   "execution_count": 17,
   "metadata": {},
   "outputs": [
    {
     "data": {
      "text/html": [
       "<div>\n",
       "<style scoped>\n",
       "    .dataframe tbody tr th:only-of-type {\n",
       "        vertical-align: middle;\n",
       "    }\n",
       "\n",
       "    .dataframe tbody tr th {\n",
       "        vertical-align: top;\n",
       "    }\n",
       "\n",
       "    .dataframe thead th {\n",
       "        text-align: right;\n",
       "    }\n",
       "</style>\n",
       "<table border=\"1\" class=\"dataframe\">\n",
       "  <thead>\n",
       "    <tr style=\"text-align: right;\">\n",
       "      <th></th>\n",
       "      <th>image</th>\n",
       "      <th>user</th>\n",
       "      <th>answer</th>\n",
       "      <th>solvable</th>\n",
       "      <th>corrupt</th>\n",
       "      <th>duration</th>\n",
       "      <th>reference</th>\n",
       "      <th>correct</th>\n",
       "    </tr>\n",
       "  </thead>\n",
       "  <tbody>\n",
       "    <tr>\n",
       "      <th>76608</th>\n",
       "      <td>img_0317</td>\n",
       "      <td>annotator_12</td>\n",
       "      <td>1.0</td>\n",
       "      <td>1</td>\n",
       "      <td>0</td>\n",
       "      <td>900</td>\n",
       "      <td>1</td>\n",
       "      <td>1</td>\n",
       "    </tr>\n",
       "    <tr>\n",
       "      <th>81905</th>\n",
       "      <td>img_2346</td>\n",
       "      <td>annotator_06</td>\n",
       "      <td>0.0</td>\n",
       "      <td>1</td>\n",
       "      <td>0</td>\n",
       "      <td>1024</td>\n",
       "      <td>0</td>\n",
       "      <td>1</td>\n",
       "    </tr>\n",
       "    <tr>\n",
       "      <th>74041</th>\n",
       "      <td>img_8704</td>\n",
       "      <td>annotator_04</td>\n",
       "      <td>0.0</td>\n",
       "      <td>1</td>\n",
       "      <td>0</td>\n",
       "      <td>1257</td>\n",
       "      <td>0</td>\n",
       "      <td>1</td>\n",
       "    </tr>\n",
       "    <tr>\n",
       "      <th>8268</th>\n",
       "      <td>img_3499</td>\n",
       "      <td>annotator_08</td>\n",
       "      <td>0.0</td>\n",
       "      <td>1</td>\n",
       "      <td>0</td>\n",
       "      <td>1609</td>\n",
       "      <td>0</td>\n",
       "      <td>1</td>\n",
       "    </tr>\n",
       "    <tr>\n",
       "      <th>75291</th>\n",
       "      <td>img_6708</td>\n",
       "      <td>annotator_11</td>\n",
       "      <td>0.0</td>\n",
       "      <td>1</td>\n",
       "      <td>0</td>\n",
       "      <td>1271</td>\n",
       "      <td>0</td>\n",
       "      <td>1</td>\n",
       "    </tr>\n",
       "  </tbody>\n",
       "</table>\n",
       "</div>"
      ],
      "text/plain": [
       "          image          user  answer  solvable  corrupt  duration  reference  \\\n",
       "76608  img_0317  annotator_12     1.0         1        0       900          1   \n",
       "81905  img_2346  annotator_06     0.0         1        0      1024          0   \n",
       "74041  img_8704  annotator_04     0.0         1        0      1257          0   \n",
       "8268   img_3499  annotator_08     0.0         1        0      1609          0   \n",
       "75291  img_6708  annotator_11     0.0         1        0      1271          0   \n",
       "\n",
       "       correct  \n",
       "76608        1  \n",
       "81905        1  \n",
       "74041        1  \n",
       "8268         1  \n",
       "75291        1  "
      ]
     },
     "execution_count": 17,
     "metadata": {},
     "output_type": "execute_result"
    }
   ],
   "source": [
    "data_full.sample(5)"
   ]
  },
  {
   "cell_type": "code",
   "execution_count": 18,
   "metadata": {},
   "outputs": [
    {
     "name": "stdout",
     "output_type": "stream",
     "text": [
      "Basic information of the loaded data:\n",
      "\n",
      "<class 'pandas.core.frame.DataFrame'>\n",
      "RangeIndex: 90870 entries, 0 to 90869\n",
      "Data columns (total 8 columns):\n",
      " #   Column     Non-Null Count  Dtype  \n",
      "---  ------     --------------  -----  \n",
      " 0   image      90870 non-null  object \n",
      " 1   user       90870 non-null  object \n",
      " 2   answer     90849 non-null  float64\n",
      " 3   solvable   90870 non-null  int64  \n",
      " 4   corrupt    90870 non-null  int64  \n",
      " 5   duration   90870 non-null  int64  \n",
      " 6   reference  90870 non-null  int64  \n",
      " 7   correct    90870 non-null  int64  \n",
      "dtypes: float64(1), int64(5), object(2)\n",
      "memory usage: 5.5+ MB\n",
      "None\n"
     ]
    }
   ],
   "source": [
    "# check out the data set\n",
    "print(\"Basic information of the loaded data:\\n\")\n",
    "print(data_full.info())"
   ]
  },
  {
   "cell_type": "code",
   "execution_count": 19,
   "metadata": {},
   "outputs": [
    {
     "name": "stdout",
     "output_type": "stream",
     "text": [
      "There are 21 annotation(s) without available answer.\n"
     ]
    }
   ],
   "source": [
    "# anootations without available answer\n",
    "n_nan = len(data_full[data_full['answer'].isnull()==True])\n",
    "# drop the rows without available answer (90849 left)\n",
    "data = data_full.dropna(subset=['answer'])\n",
    "\n",
    "print(\"There are {} annotation(s) without available answer.\".format(n_nan))"
   ]
  },
  {
   "cell_type": "code",
   "execution_count": 20,
   "metadata": {},
   "outputs": [],
   "source": [
    "#data_full[data_full['answer'].isnull()==True]"
   ]
  },
  {
   "cell_type": "code",
   "execution_count": 21,
   "metadata": {
    "scrolled": false
   },
   "outputs": [
    {
     "name": "stdout",
     "output_type": "stream",
     "text": [
      "Basic information of the loaded data:\n",
      "\n",
      "             answer      solvable       corrupt      duration     reference  \\\n",
      "count  90849.000000  90870.000000  90870.000000  90870.000000  90870.000000   \n",
      "mean       0.507788      0.999813      0.000044   1284.333873      0.504677   \n",
      "std        0.499942      0.013677      0.006635   1351.960465      0.499981   \n",
      "min        0.000000      0.000000      0.000000 -99999.000000      0.000000   \n",
      "25%        0.000000      1.000000      0.000000    887.000000      0.000000   \n",
      "50%        1.000000      1.000000      0.000000   1058.000000      1.000000   \n",
      "75%        1.000000      1.000000      0.000000   1328.000000      1.000000   \n",
      "max        1.000000      1.000000      1.000000  42398.000000      1.000000   \n",
      "\n",
      "            correct  \n",
      "count  90870.000000  \n",
      "mean       0.934676  \n",
      "std        0.247098  \n",
      "min        0.000000  \n",
      "25%        1.000000  \n",
      "50%        1.000000  \n",
      "75%        1.000000  \n",
      "max        1.000000  \n"
     ]
    }
   ],
   "source": [
    "# check out the values\n",
    "print(\"Basic information of the loaded data:\\n\")\n",
    "print(data_full.describe())"
   ]
  },
  {
   "cell_type": "code",
   "execution_count": 22,
   "metadata": {},
   "outputs": [
    {
     "name": "stdout",
     "output_type": "stream",
     "text": [
      "There are 6 annotation(s) with non-positive duration, which should be replaced.\n"
     ]
    }
   ],
   "source": [
    "#n_bad_dura = sum(d<=0 for d in list(data['duration']))\n",
    "n_bad_dura = len(data_full.loc[data_full['duration']<=0])\n",
    "\n",
    "print(\"There are {} annotation(s) with non-positive duration, which should be replaced.\".format(n_bad_dura))"
   ]
  },
  {
   "cell_type": "code",
   "execution_count": 23,
   "metadata": {},
   "outputs": [],
   "source": [
    "# fix the non-positive durations\n",
    "def fix_negativ(df=data, inst='user', targ='duration'):\n",
    "    '''\n",
    "    Replace the non-positive value with the average of positive values\n",
    "    of column 'duration' for each 'user'.\n",
    "    '''\n",
    "    # make a copy of the DataFrame\n",
    "    df_new = df.copy(deep=True)\n",
    "    # deduplication by chosen column\n",
    "    inst_list = list(set(df_new[inst]))\n",
    "    \n",
    "    for i in inst_list: \n",
    "        df_sl = df_new.loc[df_new[inst]==str(i)]\n",
    "        # index of non-positive values\n",
    "        neg_ind = list(df_sl.loc[(df_sl[targ]<=0)].index)\n",
    "        # mean of normal values\n",
    "        mean = df_sl[~(df_sl[targ]<=0)][targ].mean()\n",
    "        df_new.loc[neg_ind, targ] = mean\n",
    "        \n",
    "    return df_new\n",
    "\n",
    "\n",
    "# fix the bad values\n",
    "data_fix = fix_negativ()"
   ]
  },
  {
   "cell_type": "code",
   "execution_count": null,
   "metadata": {},
   "outputs": [],
   "source": []
  },
  {
   "cell_type": "code",
   "execution_count": 83,
   "metadata": {},
   "outputs": [
    {
     "data": {
      "text/plain": [
       "array([[<AxesSubplot:xlabel='answer', ylabel='answer'>,\n",
       "        <AxesSubplot:xlabel='solvable', ylabel='answer'>,\n",
       "        <AxesSubplot:xlabel='corrupt', ylabel='answer'>,\n",
       "        <AxesSubplot:xlabel='duration', ylabel='answer'>,\n",
       "        <AxesSubplot:xlabel='reference', ylabel='answer'>,\n",
       "        <AxesSubplot:xlabel='correct', ylabel='answer'>],\n",
       "       [<AxesSubplot:xlabel='answer', ylabel='solvable'>,\n",
       "        <AxesSubplot:xlabel='solvable', ylabel='solvable'>,\n",
       "        <AxesSubplot:xlabel='corrupt', ylabel='solvable'>,\n",
       "        <AxesSubplot:xlabel='duration', ylabel='solvable'>,\n",
       "        <AxesSubplot:xlabel='reference', ylabel='solvable'>,\n",
       "        <AxesSubplot:xlabel='correct', ylabel='solvable'>],\n",
       "       [<AxesSubplot:xlabel='answer', ylabel='corrupt'>,\n",
       "        <AxesSubplot:xlabel='solvable', ylabel='corrupt'>,\n",
       "        <AxesSubplot:xlabel='corrupt', ylabel='corrupt'>,\n",
       "        <AxesSubplot:xlabel='duration', ylabel='corrupt'>,\n",
       "        <AxesSubplot:xlabel='reference', ylabel='corrupt'>,\n",
       "        <AxesSubplot:xlabel='correct', ylabel='corrupt'>],\n",
       "       [<AxesSubplot:xlabel='answer', ylabel='duration'>,\n",
       "        <AxesSubplot:xlabel='solvable', ylabel='duration'>,\n",
       "        <AxesSubplot:xlabel='corrupt', ylabel='duration'>,\n",
       "        <AxesSubplot:xlabel='duration', ylabel='duration'>,\n",
       "        <AxesSubplot:xlabel='reference', ylabel='duration'>,\n",
       "        <AxesSubplot:xlabel='correct', ylabel='duration'>],\n",
       "       [<AxesSubplot:xlabel='answer', ylabel='reference'>,\n",
       "        <AxesSubplot:xlabel='solvable', ylabel='reference'>,\n",
       "        <AxesSubplot:xlabel='corrupt', ylabel='reference'>,\n",
       "        <AxesSubplot:xlabel='duration', ylabel='reference'>,\n",
       "        <AxesSubplot:xlabel='reference', ylabel='reference'>,\n",
       "        <AxesSubplot:xlabel='correct', ylabel='reference'>],\n",
       "       [<AxesSubplot:xlabel='answer', ylabel='correct'>,\n",
       "        <AxesSubplot:xlabel='solvable', ylabel='correct'>,\n",
       "        <AxesSubplot:xlabel='corrupt', ylabel='correct'>,\n",
       "        <AxesSubplot:xlabel='duration', ylabel='correct'>,\n",
       "        <AxesSubplot:xlabel='reference', ylabel='correct'>,\n",
       "        <AxesSubplot:xlabel='correct', ylabel='correct'>]], dtype=object)"
      ]
     },
     "execution_count": 83,
     "metadata": {},
     "output_type": "execute_result"
    },
    {
     "data": {
      "image/png": "[encoded data removed]",
      "text/plain": [
       "<Figure size 864x576 with 36 Axes>"
      ]
     },
     "metadata": {
      "needs_background": "light"
     },
     "output_type": "display_data"
    }
   ],
   "source": [
    "\n",
    "from pandas.plotting import scatter_matrix\n",
    "\n",
    "scatter_matrix(data_full, figsize=(12, 8))"
   ]
  },
  {
   "cell_type": "code",
   "execution_count": null,
   "metadata": {},
   "outputs": [],
   "source": []
  },
  {
   "cell_type": "code",
   "execution_count": 79,
   "metadata": {},
   "outputs": [
    {
     "data": {
      "text/plain": [
       "1    90853\n",
       "0       17\n",
       "Name: solvable, dtype: int64"
      ]
     },
     "execution_count": 79,
     "metadata": {},
     "output_type": "execute_result"
    }
   ],
   "source": [
    "data_full['solvable'].value_counts()"
   ]
  },
  {
   "cell_type": "code",
   "execution_count": 61,
   "metadata": {},
   "outputs": [],
   "source": [
    "corr_matrix = data.corr()"
   ]
  },
  {
   "cell_type": "code",
   "execution_count": 62,
   "metadata": {},
   "outputs": [
    {
     "data": {
      "text/html": [
       "<div>\n",
       "<style scoped>\n",
       "    .dataframe tbody tr th:only-of-type {\n",
       "        vertical-align: middle;\n",
       "    }\n",
       "\n",
       "    .dataframe tbody tr th {\n",
       "        vertical-align: top;\n",
       "    }\n",
       "\n",
       "    .dataframe thead th {\n",
       "        text-align: right;\n",
       "    }\n",
       "</style>\n",
       "<table border=\"1\" class=\"dataframe\">\n",
       "  <thead>\n",
       "    <tr style=\"text-align: right;\">\n",
       "      <th></th>\n",
       "      <th>answer</th>\n",
       "      <th>solvable</th>\n",
       "      <th>corrupt</th>\n",
       "      <th>duration</th>\n",
       "      <th>reference</th>\n",
       "      <th>correct</th>\n",
       "    </tr>\n",
       "  </thead>\n",
       "  <tbody>\n",
       "    <tr>\n",
       "      <th>answer</th>\n",
       "      <td>1.000000</td>\n",
       "      <td>NaN</td>\n",
       "      <td>NaN</td>\n",
       "      <td>-0.041194</td>\n",
       "      <td>0.869782</td>\n",
       "      <td>-0.008606</td>\n",
       "    </tr>\n",
       "    <tr>\n",
       "      <th>solvable</th>\n",
       "      <td>NaN</td>\n",
       "      <td>NaN</td>\n",
       "      <td>NaN</td>\n",
       "      <td>NaN</td>\n",
       "      <td>NaN</td>\n",
       "      <td>NaN</td>\n",
       "    </tr>\n",
       "    <tr>\n",
       "      <th>corrupt</th>\n",
       "      <td>NaN</td>\n",
       "      <td>NaN</td>\n",
       "      <td>NaN</td>\n",
       "      <td>NaN</td>\n",
       "      <td>NaN</td>\n",
       "      <td>NaN</td>\n",
       "    </tr>\n",
       "    <tr>\n",
       "      <th>duration</th>\n",
       "      <td>-0.041194</td>\n",
       "      <td>NaN</td>\n",
       "      <td>NaN</td>\n",
       "      <td>1.000000</td>\n",
       "      <td>-0.045182</td>\n",
       "      <td>-0.062607</td>\n",
       "    </tr>\n",
       "    <tr>\n",
       "      <th>reference</th>\n",
       "      <td>0.869782</td>\n",
       "      <td>NaN</td>\n",
       "      <td>NaN</td>\n",
       "      <td>-0.045182</td>\n",
       "      <td>1.000000</td>\n",
       "      <td>0.015171</td>\n",
       "    </tr>\n",
       "    <tr>\n",
       "      <th>correct</th>\n",
       "      <td>-0.008606</td>\n",
       "      <td>NaN</td>\n",
       "      <td>NaN</td>\n",
       "      <td>-0.062607</td>\n",
       "      <td>0.015171</td>\n",
       "      <td>1.000000</td>\n",
       "    </tr>\n",
       "  </tbody>\n",
       "</table>\n",
       "</div>"
      ],
      "text/plain": [
       "             answer  solvable  corrupt  duration  reference   correct\n",
       "answer     1.000000       NaN      NaN -0.041194   0.869782 -0.008606\n",
       "solvable        NaN       NaN      NaN       NaN        NaN       NaN\n",
       "corrupt         NaN       NaN      NaN       NaN        NaN       NaN\n",
       "duration  -0.041194       NaN      NaN  1.000000  -0.045182 -0.062607\n",
       "reference  0.869782       NaN      NaN -0.045182   1.000000  0.015171\n",
       "correct   -0.008606       NaN      NaN -0.062607   0.015171  1.000000"
      ]
     },
     "execution_count": 62,
     "metadata": {},
     "output_type": "execute_result"
    }
   ],
   "source": [
    "corr_matrix"
   ]
  },
  {
   "cell_type": "code",
   "execution_count": 80,
   "metadata": {},
   "outputs": [
    {
     "data": {
      "text/plain": [
       "0    90866\n",
       "1        4\n",
       "Name: corrupt, dtype: int64"
      ]
     },
     "execution_count": 80,
     "metadata": {},
     "output_type": "execute_result"
    }
   ],
   "source": [
    "data_full['corrupt'].value_counts()"
   ]
  },
  {
   "cell_type": "code",
   "execution_count": 59,
   "metadata": {},
   "outputs": [
    {
     "data": {
      "text/plain": [
       "1.0    46132\n",
       "0.0    44717\n",
       "Name: answer, dtype: int64"
      ]
     },
     "execution_count": 59,
     "metadata": {},
     "output_type": "execute_result"
    }
   ],
   "source": [
    "data_full['answer'].value_counts()"
   ]
  },
  {
   "cell_type": "code",
   "execution_count": null,
   "metadata": {},
   "outputs": [],
   "source": []
  },
  {
   "cell_type": "code",
   "execution_count": 24,
   "metadata": {},
   "outputs": [],
   "source": [
    "# get statistical information by annotator or images/questions\n",
    "def statistic_master(df=data_fix, col='user'):\n",
    "    '''\n",
    "    This function is used to get statistic information from the data set, like:\n",
    "        - amount of annotations by selected category\n",
    "        - amount of positive annotations\n",
    "        - amount of correct annotations\n",
    "        - accuracy of annotation by selected category\n",
    "        - average duration\n",
    "        - precision\n",
    "        - recall\n",
    "    Argument col could take 'user' or 'image'\n",
    "    The output is a pandas.DataFrame.\n",
    "    '''\n",
    "    info = []\n",
    "    \n",
    "    # deduplication of chosen column and sort \n",
    "    inst_list = list(set(df[col]))\n",
    "    inst_list.sort()\n",
    "    # set up timer\n",
    "    start = time()\n",
    "    total = len(inst_list)\n",
    "    t = 0\n",
    "    print(\"Start processing statistic...It will take a while.\")\n",
    "    \n",
    "    for inst in inst_list:\n",
    "        t += 1\n",
    "        p = round(1.0 * t / total * 100, 2)\n",
    "        \n",
    "        # collect the statistic informations\n",
    "        amo_tot = len(df.loc[df[col]==inst])\n",
    "        amo_pos = int(df['answer'].loc[df[col]==inst].sum())\n",
    "        amo_corre = int(df['correct'].loc[df[col]==inst].sum())\n",
    "        avg_dura = round(df['duration'].loc[df[col]==inst].mean(), 2)\n",
    "        accu = round(df['correct'].loc[df[col]==inst].mean(), 2)\n",
    "        # save in list\n",
    "        inst_info = [inst, amo_tot, amo_pos, amo_corre, avg_dura, accu]\n",
    "        # optional infomation\n",
    "        if col=='user':\n",
    "            y_anno = list(df['answer'].loc[df[col]==inst])\n",
    "            y_true = list(df['reference'].loc[df[col]==inst])\n",
    "            tn, fp, fn, tp = confusion_matrix(y_true, y_anno).ravel()\n",
    "            prec = round(tp/(tp+fp), 2)\n",
    "            rec = round(tp/(tp+fn), 2)\n",
    "            #accu = round((tp+tn)/(tn+fp+fn+tp), 2)\n",
    "            inst_info.extend([prec, rec])\n",
    "        if col=='image':\n",
    "            ref = df['reference'].loc[df[col]==inst].mean()\n",
    "            inst_info.append(ref)\n",
    "        \n",
    "        info.append(inst_info)\n",
    "        print(\"Processing: {0}, {1} [{2}/{3}]\".format(inst, str(p)+'%', t, total), end=\"\\r\")\n",
    "        #time.sleep(0.01)\n",
    "        \n",
    "    print(\"Processing done! {:.2f} seconds passed.\".format((time() - start)), end=\"\\r\")\n",
    "    \n",
    "    # save in DataFrame\n",
    "    if col=='user':\n",
    "        columns = [\n",
    "            col, \n",
    "            'total amount', \n",
    "            'positive amount', \n",
    "            'correct amount', \n",
    "            'avg.duration', \n",
    "            'accuracy', \n",
    "            'precision', \n",
    "            'recall'\n",
    "        ]\n",
    "    if col=='image':\n",
    "        columns = [\n",
    "            col, \n",
    "            'total amount', \n",
    "            'positive amount', \n",
    "            'correct amount', \n",
    "            'avg.duration', \n",
    "            'accuracy',\n",
    "            'reference'\n",
    "        ]\n",
    "    result = pd.DataFrame(info, columns=columns)\n",
    "    '''\n",
    "    # add percent sign\n",
    "    result.loc[:, 'accuracy'] = result.loc[:, 'accuracy'].apply(\n",
    "        lambda x: \"{:.2f}%\".format(x)\n",
    "    )\n",
    "    '''\n",
    "    \n",
    "    return result\n"
   ]
  },
  {
   "cell_type": "markdown",
   "metadata": {},
   "source": [
    "************************"
   ]
  },
  {
   "cell_type": "markdown",
   "metadata": {},
   "source": [
    "### How many annotators did contribute to the dataset?"
   ]
  },
  {
   "cell_type": "code",
   "execution_count": 25,
   "metadata": {},
   "outputs": [
    {
     "name": "stdout",
     "output_type": "stream",
     "text": [
      "There are 22 annotators in total did contribute to the dataset.\n"
     ]
    }
   ],
   "source": [
    "# deduplication by 'user'\n",
    "user_list = list(set(data_full['user']))\n",
    "user_list.sort()\n",
    "\n",
    "print(\"There are {} annotators in total did contribute to the dataset.\".format(len(user_list)))"
   ]
  },
  {
   "cell_type": "code",
   "execution_count": null,
   "metadata": {},
   "outputs": [],
   "source": []
  },
  {
   "cell_type": "code",
   "execution_count": 48,
   "metadata": {},
   "outputs": [
    {
     "data": {
      "text/plain": [
       "annotator_02    7596\n",
       "annotator_13    7078\n",
       "annotator_08    6537\n",
       "annotator_11    6436\n",
       "annotator_04    6421\n",
       "annotator_12    6210\n",
       "annotator_20    6126\n",
       "annotator_15    6088\n",
       "annotator_06    5337\n",
       "annotator_18    5170\n",
       "annotator_16    5061\n",
       "annotator_09    4860\n",
       "annotator_17    3485\n",
       "annotator_05    3475\n",
       "annotator_21    2950\n",
       "annotator_07    2175\n",
       "annotator_22    1745\n",
       "annotator_14    1725\n",
       "annotator_01    1280\n",
       "annotator_03     630\n",
       "annotator_10     315\n",
       "annotator_19     170\n",
       "Name: user, dtype: int64"
      ]
     },
     "execution_count": 48,
     "metadata": {},
     "output_type": "execute_result"
    }
   ],
   "source": [
    "data_full['user'].value_counts()"
   ]
  },
  {
   "cell_type": "markdown",
   "metadata": {},
   "source": [
    "************************"
   ]
  },
  {
   "cell_type": "markdown",
   "metadata": {},
   "source": [
    "###  Did all annotators produce the same amount of results, or are there differences?"
   ]
  },
  {
   "cell_type": "code",
   "execution_count": 26,
   "metadata": {},
   "outputs": [
    {
     "name": "stdout",
     "output_type": "stream",
     "text": [
      "Amount of results contributed by each annotator:\n",
      "\n",
      "            user  size\n",
      "0   annotator_01  1280\n",
      "1   annotator_02  7596\n",
      "2   annotator_03   630\n",
      "3   annotator_04  6421\n",
      "4   annotator_05  3475\n",
      "5   annotator_06  5337\n",
      "6   annotator_07  2175\n",
      "7   annotator_08  6537\n",
      "8   annotator_09  4860\n",
      "9   annotator_10   315\n",
      "10  annotator_11  6436\n",
      "11  annotator_12  6210\n",
      "12  annotator_13  7078\n",
      "13  annotator_14  1725\n",
      "14  annotator_15  6088\n",
      "15  annotator_16  5061\n",
      "16  annotator_17  3485\n",
      "17  annotator_18  5170\n",
      "18  annotator_19   170\n",
      "19  annotator_20  6126\n",
      "20  annotator_21  2950\n",
      "21  annotator_22  1745\n"
     ]
    }
   ],
   "source": [
    "# get amount of results for each annotators\n",
    "print(\"Amount of results contributed by each annotator:\\n\")\n",
    "print(data_full.groupby(['user'],as_index=False).size())"
   ]
  },
  {
   "cell_type": "code",
   "execution_count": 27,
   "metadata": {},
   "outputs": [
    {
     "data": {
      "image/png": "[encoded data removed]",
      "text/plain": [
       "<Figure size 1080x360 with 1 Axes>"
      ]
     },
     "metadata": {
      "needs_background": "light"
     },
     "output_type": "display_data"
    }
   ],
   "source": [
    "# visualize the amounts of results\n",
    "fig, ax = plt.subplots(figsize=(15,5))\n",
    "ax.set_title(\"Amount of results produced by annotators\", y=1.05, size=15)\n",
    "sns.countplot(x='user', data=data_full.sort_values(by='user'))\n",
    "ax.set_xlabel('Annotators', fontsize=10)\n",
    "ax.set_ylabel('Amount of results', fontsize=10)\n",
    "ax.xaxis.set_tick_params(rotation=90)\n",
    "ax.grid(axis='y')\n",
    "plt.show()\n"
   ]
  },
  {
   "cell_type": "markdown",
   "metadata": {},
   "source": [
    "************************"
   ]
  },
  {
   "cell_type": "markdown",
   "metadata": {},
   "source": [
    "### Are there questions for which annotators highly disagree?"
   ]
  },
  {
   "cell_type": "code",
   "execution_count": 28,
   "metadata": {},
   "outputs": [
    {
     "name": "stdout",
     "output_type": "stream",
     "text": [
      "Start processing statistic...It will take a while.\n",
      "Processing done! 411.76 seconds passed.]\r"
     ]
    }
   ],
   "source": [
    "# get statistic for images\n",
    "stats_image = statistic_master(data_fix, col='image')"
   ]
  },
  {
   "cell_type": "code",
   "execution_count": 29,
   "metadata": {},
   "outputs": [],
   "source": [
    "#stats_image.sample(5)"
   ]
  },
  {
   "cell_type": "code",
   "execution_count": 30,
   "metadata": {},
   "outputs": [
    {
     "name": "stdout",
     "output_type": "stream",
     "text": [
      "There are 3524 images/questions for which all annotators totally disagree.\n",
      "88 of the images/questions are incorrectly as negative annotated (false negative).\n"
     ]
    }
   ],
   "source": [
    "# amount of images, to those not a single annotator gave a positive answer\n",
    "n_disagree = len(stats_image.loc[stats_image['positive amount']==0])\n",
    "n_fn = len(stats_image.loc[(stats_image['positive amount']==0) & (stats_image['accuracy']==0)])\n",
    "\n",
    "print(\"There are {} images/questions for which all annotators totally disagree.\".format(n_disagree))\n",
    "print(\"{} of the images/questions are incorrectly as negative annotated (false negative).\".format(n_fn))"
   ]
  },
  {
   "cell_type": "code",
   "execution_count": 31,
   "metadata": {},
   "outputs": [
    {
     "name": "stdout",
     "output_type": "stream",
     "text": [
      "['img_0105', 'img_0179', 'img_0201', 'img_0220', 'img_0286', 'img_0332', 'img_0532', 'img_0576', 'img_0658', 'img_0809', 'img_1008', 'img_1047', 'img_1569', 'img_1570', 'img_1637', 'img_1684', 'img_1931', 'img_1945', 'img_2021', 'img_2068', 'img_2140', 'img_2340', 'img_2341', 'img_2436', 'img_2692', 'img_2716', 'img_2899', 'img_2999', 'img_3009', 'img_3148', 'img_3179', 'img_3266', 'img_3328', 'img_3352', 'img_3359', 'img_3468', 'img_3626', 'img_3896', 'img_3973', 'img_4009', 'img_4043', 'img_4065', 'img_4272', 'img_4403', 'img_4456', 'img_4489', 'img_4596', 'img_4600', 'img_5006', 'img_5529', 'img_5666', 'img_5777', 'img_5779', 'img_5845', 'img_5864', 'img_6047', 'img_6211', 'img_6240', 'img_6364', 'img_6399', 'img_6509', 'img_6655', 'img_6672', 'img_6816', 'img_6970', 'img_6980', 'img_7134', 'img_7174', 'img_7389', 'img_7531', 'img_7694', 'img_7880', 'img_7950', 'img_8048', 'img_8060', 'img_8158', 'img_8237', 'img_8272', 'img_8281', 'img_8510', 'img_8566', 'img_8569', 'img_8633', 'img_8667', 'img_8726', 'img_8742', 'img_8919', 'img_8944']\n"
     ]
    }
   ],
   "source": [
    "print([im for im in list(stats_image['image'].loc[(stats_image['positive amount']==0) & (stats_image['accuracy']==0)])])"
   ]
  },
  {
   "cell_type": "code",
   "execution_count": 32,
   "metadata": {},
   "outputs": [
    {
     "data": {
      "text/plain": [
       "'\\n# visualize the amounts of results\\nfig, ax = plt.subplots(figsize=(15,5))\\nax.set_title(\"Amount of results produced by annotators\", y=1.05, size=15)\\nsns.barplot(x=\\'image\\', y=\\'accuracy\\', data=stats_image)\\nax.set_xlabel(\\'Annotators\\', fontsize=10)\\nax.set_ylabel(\\'Amount of results\\', fontsize=10)\\nax.xaxis.set_tick_params(rotation=90)\\nax.grid(axis=\\'y\\')\\n'"
      ]
     },
     "execution_count": 32,
     "metadata": {},
     "output_type": "execute_result"
    }
   ],
   "source": [
    "# runs very slow\n",
    "'''\n",
    "# visualize the amounts of results\n",
    "fig, ax = plt.subplots(figsize=(15,5))\n",
    "ax.set_title(\"Amount of results produced by annotators\", y=1.05, size=15)\n",
    "sns.barplot(x='image', y='accuracy', data=stats_image)\n",
    "ax.set_xlabel('Annotators', fontsize=10)\n",
    "ax.set_ylabel('Amount of results', fontsize=10)\n",
    "ax.xaxis.set_tick_params(rotation=90)\n",
    "ax.grid(axis='y')\n",
    "'''"
   ]
  },
  {
   "cell_type": "markdown",
   "metadata": {},
   "source": [
    "### What are the average, min and max annotation times (durations)?"
   ]
  },
  {
   "cell_type": "code",
   "execution_count": 33,
   "metadata": {},
   "outputs": [
    {
     "data": {
      "text/plain": [
       "count    90849.000000\n",
       "mean      1290.050170\n",
       "std       1124.059174\n",
       "min         10.000000\n",
       "25%        887.000000\n",
       "50%       1058.000000\n",
       "75%       1328.000000\n",
       "max      42398.000000\n",
       "Name: duration, dtype: float64"
      ]
     },
     "execution_count": 33,
     "metadata": {},
     "output_type": "execute_result"
    }
   ],
   "source": [
    "data_fix['duration'].describe()"
   ]
  },
  {
   "cell_type": "code",
   "execution_count": 34,
   "metadata": {},
   "outputs": [
    {
     "name": "stdout",
     "output_type": "stream",
     "text": [
      "To the entire data set:\n",
      "--------------------------------------------------\n",
      "Median duration 1058.00 [ms]\n",
      "Maximal duration 42398.00 [ms]\n",
      "Minimal duration 10.00 [ms]\n",
      "Average duration 1290.05 [ms]\n"
     ]
    }
   ],
   "source": [
    "print(\"To the entire data set:\")\n",
    "print('-'*50)\n",
    "print (\"Median duration {:.2f} [ms]\".format(data_fix['duration'].median()))\n",
    "print (\"Maximal duration {:.2f} [ms]\".format(data_fix['duration'].max()))\n",
    "print (\"Minimal duration {:.2f} [ms]\".format(data_fix['duration'].min()))\n",
    "print (\"Average duration {:.2f} [ms]\".format(data_fix['duration'].mean()))"
   ]
  },
  {
   "cell_type": "code",
   "execution_count": 35,
   "metadata": {},
   "outputs": [
    {
     "data": {
      "image/png": "[encoded data removed]",
      "text/plain": [
       "<Figure size 1080x360 with 1 Axes>"
      ]
     },
     "metadata": {
      "needs_background": "light"
     },
     "output_type": "display_data"
    }
   ],
   "source": [
    "# visualize the durations\n",
    "fig, ax = plt.subplots(figsize=(15,5))\n",
    "ax.set_title('Durations by each annotators')\n",
    "sns.regplot(x='user', y='duration', data=data_fix.sort_values(by='user'), fit_reg=False, ax=ax)\n",
    "ax.set_xlabel('Annotators', fontsize=10)\n",
    "ax.set_ylabel('Duration [ms]', fontsize=10)\n",
    "ax.xaxis.set_tick_params(rotation=90)\n",
    "ax.grid(axis='y')\n",
    "plt.show()\n"
   ]
  },
  {
   "cell_type": "markdown",
   "metadata": {},
   "source": [
    "************************"
   ]
  },
  {
   "cell_type": "markdown",
   "metadata": {},
   "source": [
    "### How often does each occur in the project and do you see a trend within the annotators that made use of these options?"
   ]
  },
  {
   "cell_type": "code",
   "execution_count": 113,
   "metadata": {},
   "outputs": [],
   "source": [
    "# Hint: the data_full has the original index\n",
    "\n",
    "n = len(data_full)\n",
    "\n",
    "# index of 'unsolvable' data \n",
    "ind_unsol = data_full.loc[data_full['solvable']==0].index.tolist()\n",
    "n_unsol = len(ind_unsol)\n",
    "# index of 'corrupted' data \n",
    "ind_corr = data_full.loc[data_full['corrupt']==1].index.tolist()\n",
    "n_corr = len(ind_corr)\n",
    "# index of data with no answer\n",
    "ind_nans = data_full.loc[data_full['answer'].isnull()==True].index.tolist()\n",
    "n_nans = len(ind_nans)\n"
   ]
  },
  {
   "cell_type": "code",
   "execution_count": null,
   "metadata": {},
   "outputs": [],
   "source": [
    "#irre_ind = set().union(ind_nans, ind_unsol, ind_corr)"
   ]
  },
  {
   "cell_type": "code",
   "execution_count": 71,
   "metadata": {},
   "outputs": [
    {
     "name": "stdout",
     "output_type": "stream",
     "text": [
      "To the entire data set:\n",
      "--------------------------------------------------\n",
      "17 annotations were unsolvable (0.0187%)\n",
      "4 annotations were corrupt (0.0044%)\n"
     ]
    }
   ],
   "source": [
    "print(\"To the entire data set:\")\n",
    "print('-'*50)\n",
    "print (\"{0} annotations were unsolvable ({1}%)\".format(n_unsol, round((n_unsol/n)*100, 4)))\n",
    "print (\"{0} annotations were corrupt ({1}%)\".format(n_corr, round((n_corr/n)*100, 4)))"
   ]
  },
  {
   "cell_type": "code",
   "execution_count": 138,
   "metadata": {},
   "outputs": [],
   "source": [
    "#list(set(ind_nans).intersection(set(ind_corr)))"
   ]
  },
  {
   "cell_type": "code",
   "execution_count": 136,
   "metadata": {},
   "outputs": [
    {
     "name": "stdout",
     "output_type": "stream",
     "text": [
      "Annotations without answer are exactly the sum of unsolvable and corrupt annotations.\n"
     ]
    }
   ],
   "source": [
    "ind_corr_unsol = list(set(ind_unsol+ind_corr))\n",
    "ind_corr_unsol.sort()\n",
    "ind_coun = list(set(ind_unsol).intersection(set(ind_corr)))\n",
    "ind_coun.sort()\n",
    "\n",
    "if ind_corr_unsol == ind_nans:\n",
    "    print(\"Annotations without answer are exactly the sum of unsolvable and corrupt annotations.\")\n",
    "elif len(ind_coun) != 0:\n",
    "    print(\"Annotations, which are unsolvable and corrupt:\\n\", ind_coun)\n",
    "else:\n",
    "    ind_nans_sol = list(set(ind_nans).difference(set(ind_unsol)))\n",
    "    print(\"Annotations without answer, which are solvable:\\n\", ind_nans_sol)\n",
    "    ind_nans_nc = list(set(ind_nans).difference(set(ind_corr)))\n",
    "    print(\"Annotations without answer, which are not corrupt:\\n\", ind_nans_nc)"
   ]
  },
  {
   "cell_type": "code",
   "execution_count": 37,
   "metadata": {},
   "outputs": [],
   "source": [
    "#data_full.sort_values(by='user').loc[data_full['solvable']==0].index"
   ]
  },
  {
   "cell_type": "code",
   "execution_count": 39,
   "metadata": {},
   "outputs": [
    {
     "data": {
      "image/png": "[encoded data removed]",
      "text/plain": [
       "<Figure size 720x720 with 2 Axes>"
      ]
     },
     "metadata": {
      "needs_background": "light"
     },
     "output_type": "display_data"
    }
   ],
   "source": [
    "colormap = plt.cm.RdBu\n",
    "plt.figure(figsize=(10,10))\n",
    "plt.title('Pearson Correlation', y=1.05, size=15)\n",
    "sns.heatmap(\n",
    "    data_full[['answer','solvable','corrupt','duration','correct']].astype(float).corr(),\n",
    "    linewidths=1,\n",
    "    vmax=1.0, \n",
    "    vmin=-1.0, \n",
    "    square=True, \n",
    "    cmap=colormap, \n",
    "    linecolor='white', \n",
    "    annot=True)\n",
    "plt.show()\n"
   ]
  },
  {
   "cell_type": "markdown",
   "metadata": {},
   "source": [
    "************************"
   ]
  },
  {
   "cell_type": "markdown",
   "metadata": {},
   "source": [
    "### Is the reference set balanced? Please demonstrate via numbers and visualizations."
   ]
  },
  {
   "cell_type": "code",
   "execution_count": 40,
   "metadata": {},
   "outputs": [
    {
     "name": "stdout",
     "output_type": "stream",
     "text": [
      "There are 45860 positive samples in the reference,which is 50.47% of the hole data set.\n",
      "The reference is balanced.\n"
     ]
    }
   ],
   "source": [
    "# about the balance of reference\n",
    "n_true = list(data_full['reference']).count(1)\n",
    "true_rate = n_true/len(data_full)\n",
    "\n",
    "# I'm not sure about this range\n",
    "if true_rate>=0.33 and true_rate<=0.66:\n",
    "    jug = 'balanced'\n",
    "else:\n",
    "    jug = 'unbalanced'\n",
    "\n",
    "print(\"There are {0} positive samples in the reference,which is {1}% of the hole data set.\".format(n_true, round(true_rate*100,2)))\n",
    "print(\"The reference is {0}.\".format(jug))"
   ]
  },
  {
   "cell_type": "code",
   "execution_count": 41,
   "metadata": {},
   "outputs": [
    {
     "data": {
      "image/png": "[encoded data removed]",
      "text/plain": [
       "<Figure size 1080x360 with 1 Axes>"
      ]
     },
     "metadata": {
      "needs_background": "light"
     },
     "output_type": "display_data"
    }
   ],
   "source": [
    "# visualize the amounts of results\n",
    "fig, ax = plt.subplots(figsize=(15,5))\n",
    "ax.set_title(\"Amount of results produced by annotators\", y=1.05, size=15)\n",
    "sns.countplot(x='user', hue='reference', data=data_full.sort_values(by='user'))\n",
    "ax.set_xlabel('Annotators', fontsize=10)\n",
    "ax.set_ylabel('Amount of results', fontsize=10)\n",
    "ax.xaxis.set_tick_params(rotation=90)\n",
    "ax.grid(axis='y')\n",
    "plt.show()\n"
   ]
  },
  {
   "cell_type": "markdown",
   "metadata": {},
   "source": [
    "************************"
   ]
  },
  {
   "cell_type": "markdown",
   "metadata": {},
   "source": [
    "### Using the reference set, can you identify good and bad annotators?  Please use statistics and visualizations."
   ]
  },
  {
   "cell_type": "code",
   "execution_count": 42,
   "metadata": {},
   "outputs": [
    {
     "name": "stdout",
     "output_type": "stream",
     "text": [
      "Start processing statistic...It will take a while.\n",
      "Processing done! 2.16 seconds passed.22]\r"
     ]
    }
   ],
   "source": [
    "# get statistical information for users\n",
    "stats_user = statistic_master(data_fix, col='user')"
   ]
  },
  {
   "cell_type": "code",
   "execution_count": 78,
   "metadata": {},
   "outputs": [
    {
     "data": {
      "text/plain": [
       "{4194, 7733, 22669, 53442}"
      ]
     },
     "execution_count": 78,
     "metadata": {},
     "output_type": "execute_result"
    }
   ],
   "source": [
    "set(ind_corr)"
   ]
  },
  {
   "cell_type": "code",
   "execution_count": 43,
   "metadata": {},
   "outputs": [
    {
     "data": {
      "text/html": [
       "<div>\n",
       "<style scoped>\n",
       "    .dataframe tbody tr th:only-of-type {\n",
       "        vertical-align: middle;\n",
       "    }\n",
       "\n",
       "    .dataframe tbody tr th {\n",
       "        vertical-align: top;\n",
       "    }\n",
       "\n",
       "    .dataframe thead th {\n",
       "        text-align: right;\n",
       "    }\n",
       "</style>\n",
       "<table border=\"1\" class=\"dataframe\">\n",
       "  <thead>\n",
       "    <tr style=\"text-align: right;\">\n",
       "      <th></th>\n",
       "      <th>user</th>\n",
       "      <th>total amount</th>\n",
       "      <th>positive amount</th>\n",
       "      <th>correct amount</th>\n",
       "      <th>avg.duration</th>\n",
       "      <th>accuracy</th>\n",
       "      <th>precision</th>\n",
       "      <th>recall</th>\n",
       "    </tr>\n",
       "  </thead>\n",
       "  <tbody>\n",
       "    <tr>\n",
       "      <th>0</th>\n",
       "      <td>annotator_01</td>\n",
       "      <td>1280</td>\n",
       "      <td>673</td>\n",
       "      <td>1214</td>\n",
       "      <td>1077.32</td>\n",
       "      <td>0.95</td>\n",
       "      <td>0.94</td>\n",
       "      <td>0.96</td>\n",
       "    </tr>\n",
       "    <tr>\n",
       "      <th>1</th>\n",
       "      <td>annotator_02</td>\n",
       "      <td>7594</td>\n",
       "      <td>3750</td>\n",
       "      <td>7101</td>\n",
       "      <td>1178.24</td>\n",
       "      <td>0.94</td>\n",
       "      <td>0.94</td>\n",
       "      <td>0.93</td>\n",
       "    </tr>\n",
       "    <tr>\n",
       "      <th>2</th>\n",
       "      <td>annotator_03</td>\n",
       "      <td>630</td>\n",
       "      <td>295</td>\n",
       "      <td>585</td>\n",
       "      <td>1460.25</td>\n",
       "      <td>0.93</td>\n",
       "      <td>0.96</td>\n",
       "      <td>0.90</td>\n",
       "    </tr>\n",
       "    <tr>\n",
       "      <th>3</th>\n",
       "      <td>annotator_04</td>\n",
       "      <td>6417</td>\n",
       "      <td>3369</td>\n",
       "      <td>5960</td>\n",
       "      <td>1114.21</td>\n",
       "      <td>0.93</td>\n",
       "      <td>0.92</td>\n",
       "      <td>0.94</td>\n",
       "    </tr>\n",
       "    <tr>\n",
       "      <th>4</th>\n",
       "      <td>annotator_05</td>\n",
       "      <td>3475</td>\n",
       "      <td>1744</td>\n",
       "      <td>3256</td>\n",
       "      <td>1562.09</td>\n",
       "      <td>0.94</td>\n",
       "      <td>0.94</td>\n",
       "      <td>0.93</td>\n",
       "    </tr>\n",
       "    <tr>\n",
       "      <th>5</th>\n",
       "      <td>annotator_06</td>\n",
       "      <td>5336</td>\n",
       "      <td>2901</td>\n",
       "      <td>4945</td>\n",
       "      <td>1496.94</td>\n",
       "      <td>0.93</td>\n",
       "      <td>0.90</td>\n",
       "      <td>0.96</td>\n",
       "    </tr>\n",
       "    <tr>\n",
       "      <th>6</th>\n",
       "      <td>annotator_07</td>\n",
       "      <td>2174</td>\n",
       "      <td>1130</td>\n",
       "      <td>1990</td>\n",
       "      <td>1578.35</td>\n",
       "      <td>0.92</td>\n",
       "      <td>0.91</td>\n",
       "      <td>0.93</td>\n",
       "    </tr>\n",
       "    <tr>\n",
       "      <th>7</th>\n",
       "      <td>annotator_08</td>\n",
       "      <td>6534</td>\n",
       "      <td>3385</td>\n",
       "      <td>5878</td>\n",
       "      <td>1434.72</td>\n",
       "      <td>0.90</td>\n",
       "      <td>0.89</td>\n",
       "      <td>0.91</td>\n",
       "    </tr>\n",
       "    <tr>\n",
       "      <th>8</th>\n",
       "      <td>annotator_09</td>\n",
       "      <td>4860</td>\n",
       "      <td>2477</td>\n",
       "      <td>4536</td>\n",
       "      <td>1198.81</td>\n",
       "      <td>0.93</td>\n",
       "      <td>0.92</td>\n",
       "      <td>0.95</td>\n",
       "    </tr>\n",
       "    <tr>\n",
       "      <th>9</th>\n",
       "      <td>annotator_10</td>\n",
       "      <td>315</td>\n",
       "      <td>192</td>\n",
       "      <td>280</td>\n",
       "      <td>1252.97</td>\n",
       "      <td>0.89</td>\n",
       "      <td>0.84</td>\n",
       "      <td>0.97</td>\n",
       "    </tr>\n",
       "    <tr>\n",
       "      <th>10</th>\n",
       "      <td>annotator_11</td>\n",
       "      <td>6435</td>\n",
       "      <td>3136</td>\n",
       "      <td>6026</td>\n",
       "      <td>1279.98</td>\n",
       "      <td>0.94</td>\n",
       "      <td>0.95</td>\n",
       "      <td>0.92</td>\n",
       "    </tr>\n",
       "    <tr>\n",
       "      <th>11</th>\n",
       "      <td>annotator_12</td>\n",
       "      <td>6210</td>\n",
       "      <td>3357</td>\n",
       "      <td>5774</td>\n",
       "      <td>1306.31</td>\n",
       "      <td>0.93</td>\n",
       "      <td>0.91</td>\n",
       "      <td>0.95</td>\n",
       "    </tr>\n",
       "    <tr>\n",
       "      <th>12</th>\n",
       "      <td>annotator_13</td>\n",
       "      <td>7078</td>\n",
       "      <td>3497</td>\n",
       "      <td>6702</td>\n",
       "      <td>1155.01</td>\n",
       "      <td>0.95</td>\n",
       "      <td>0.95</td>\n",
       "      <td>0.94</td>\n",
       "    </tr>\n",
       "    <tr>\n",
       "      <th>13</th>\n",
       "      <td>annotator_14</td>\n",
       "      <td>1724</td>\n",
       "      <td>862</td>\n",
       "      <td>1633</td>\n",
       "      <td>1595.58</td>\n",
       "      <td>0.95</td>\n",
       "      <td>0.95</td>\n",
       "      <td>0.95</td>\n",
       "    </tr>\n",
       "    <tr>\n",
       "      <th>14</th>\n",
       "      <td>annotator_15</td>\n",
       "      <td>6088</td>\n",
       "      <td>2971</td>\n",
       "      <td>5774</td>\n",
       "      <td>1365.29</td>\n",
       "      <td>0.95</td>\n",
       "      <td>0.96</td>\n",
       "      <td>0.94</td>\n",
       "    </tr>\n",
       "    <tr>\n",
       "      <th>15</th>\n",
       "      <td>annotator_16</td>\n",
       "      <td>5061</td>\n",
       "      <td>2491</td>\n",
       "      <td>4769</td>\n",
       "      <td>1269.79</td>\n",
       "      <td>0.94</td>\n",
       "      <td>0.96</td>\n",
       "      <td>0.93</td>\n",
       "    </tr>\n",
       "    <tr>\n",
       "      <th>16</th>\n",
       "      <td>annotator_17</td>\n",
       "      <td>3485</td>\n",
       "      <td>1697</td>\n",
       "      <td>3283</td>\n",
       "      <td>991.89</td>\n",
       "      <td>0.94</td>\n",
       "      <td>0.96</td>\n",
       "      <td>0.92</td>\n",
       "    </tr>\n",
       "    <tr>\n",
       "      <th>17</th>\n",
       "      <td>annotator_18</td>\n",
       "      <td>5167</td>\n",
       "      <td>2681</td>\n",
       "      <td>4841</td>\n",
       "      <td>1593.03</td>\n",
       "      <td>0.94</td>\n",
       "      <td>0.92</td>\n",
       "      <td>0.95</td>\n",
       "    </tr>\n",
       "    <tr>\n",
       "      <th>18</th>\n",
       "      <td>annotator_19</td>\n",
       "      <td>170</td>\n",
       "      <td>89</td>\n",
       "      <td>161</td>\n",
       "      <td>1687.78</td>\n",
       "      <td>0.95</td>\n",
       "      <td>0.94</td>\n",
       "      <td>0.95</td>\n",
       "    </tr>\n",
       "    <tr>\n",
       "      <th>19</th>\n",
       "      <td>annotator_20</td>\n",
       "      <td>6125</td>\n",
       "      <td>3048</td>\n",
       "      <td>5809</td>\n",
       "      <td>1173.21</td>\n",
       "      <td>0.95</td>\n",
       "      <td>0.95</td>\n",
       "      <td>0.95</td>\n",
       "    </tr>\n",
       "    <tr>\n",
       "      <th>20</th>\n",
       "      <td>annotator_21</td>\n",
       "      <td>2950</td>\n",
       "      <td>1504</td>\n",
       "      <td>2773</td>\n",
       "      <td>1238.92</td>\n",
       "      <td>0.94</td>\n",
       "      <td>0.93</td>\n",
       "      <td>0.95</td>\n",
       "    </tr>\n",
       "    <tr>\n",
       "      <th>21</th>\n",
       "      <td>annotator_22</td>\n",
       "      <td>1741</td>\n",
       "      <td>883</td>\n",
       "      <td>1644</td>\n",
       "      <td>880.04</td>\n",
       "      <td>0.94</td>\n",
       "      <td>0.94</td>\n",
       "      <td>0.95</td>\n",
       "    </tr>\n",
       "  </tbody>\n",
       "</table>\n",
       "</div>"
      ],
      "text/plain": [
       "            user  total amount  positive amount  correct amount  avg.duration  \\\n",
       "0   annotator_01          1280              673            1214       1077.32   \n",
       "1   annotator_02          7594             3750            7101       1178.24   \n",
       "2   annotator_03           630              295             585       1460.25   \n",
       "3   annotator_04          6417             3369            5960       1114.21   \n",
       "4   annotator_05          3475             1744            3256       1562.09   \n",
       "5   annotator_06          5336             2901            4945       1496.94   \n",
       "6   annotator_07          2174             1130            1990       1578.35   \n",
       "7   annotator_08          6534             3385            5878       1434.72   \n",
       "8   annotator_09          4860             2477            4536       1198.81   \n",
       "9   annotator_10           315              192             280       1252.97   \n",
       "10  annotator_11          6435             3136            6026       1279.98   \n",
       "11  annotator_12          6210             3357            5774       1306.31   \n",
       "12  annotator_13          7078             3497            6702       1155.01   \n",
       "13  annotator_14          1724              862            1633       1595.58   \n",
       "14  annotator_15          6088             2971            5774       1365.29   \n",
       "15  annotator_16          5061             2491            4769       1269.79   \n",
       "16  annotator_17          3485             1697            3283        991.89   \n",
       "17  annotator_18          5167             2681            4841       1593.03   \n",
       "18  annotator_19           170               89             161       1687.78   \n",
       "19  annotator_20          6125             3048            5809       1173.21   \n",
       "20  annotator_21          2950             1504            2773       1238.92   \n",
       "21  annotator_22          1741              883            1644        880.04   \n",
       "\n",
       "    accuracy  precision  recall  \n",
       "0       0.95       0.94    0.96  \n",
       "1       0.94       0.94    0.93  \n",
       "2       0.93       0.96    0.90  \n",
       "3       0.93       0.92    0.94  \n",
       "4       0.94       0.94    0.93  \n",
       "5       0.93       0.90    0.96  \n",
       "6       0.92       0.91    0.93  \n",
       "7       0.90       0.89    0.91  \n",
       "8       0.93       0.92    0.95  \n",
       "9       0.89       0.84    0.97  \n",
       "10      0.94       0.95    0.92  \n",
       "11      0.93       0.91    0.95  \n",
       "12      0.95       0.95    0.94  \n",
       "13      0.95       0.95    0.95  \n",
       "14      0.95       0.96    0.94  \n",
       "15      0.94       0.96    0.93  \n",
       "16      0.94       0.96    0.92  \n",
       "17      0.94       0.92    0.95  \n",
       "18      0.95       0.94    0.95  \n",
       "19      0.95       0.95    0.95  \n",
       "20      0.94       0.93    0.95  \n",
       "21      0.94       0.94    0.95  "
      ]
     },
     "execution_count": 43,
     "metadata": {},
     "output_type": "execute_result"
    }
   ],
   "source": [
    "stats_user"
   ]
  },
  {
   "cell_type": "code",
   "execution_count": 44,
   "metadata": {},
   "outputs": [
    {
     "data": {
      "image/png": "[encoded data removed]",
      "text/plain": [
       "<Figure size 1080x720 with 2 Axes>"
      ]
     },
     "metadata": {
      "needs_background": "light"
     },
     "output_type": "display_data"
    }
   ],
   "source": [
    "# visualize the accuracy and avg. annotation time by each annotator\n",
    "fig, ax = plt.subplots(2, 1, sharex=True, figsize=(15,10))\n",
    "\n",
    "#ax[0].set_title(\"Accuracy\", y=1.05, size=15)\n",
    "sns.barplot(x='user', y='accuracy', data=stats_user, palette='Blues_d', ax=ax[0])\n",
    "ax[0].set_ylabel('Accuracy of annotation', fontsize=10)\n",
    "ax[0].set_xlabel('Annotators', fontsize=10)\n",
    "ax[0].xaxis.set_tick_params(rotation=90)\n",
    "ax[0].set_ylim([0, 1])\n",
    "ax[0].grid(axis='y')\n",
    "\n",
    "#ax[1].set_title(\"Avg.duration\", y=1.05, size=15)\n",
    "sns.barplot(x='user', y='avg.duration', data=stats_user, palette='Oranges_d', ax=ax[1])\n",
    "ax[1].set_ylabel('Avg.duration', fontsize=10)\n",
    "ax[1].set_xlabel('Annotators', fontsize=10)\n",
    "ax[1].xaxis.set_tick_params(rotation=90)\n",
    "ax[1].set_ylim([1, 1750])\n",
    "ax[1].grid(axis='y')\n",
    "\n",
    "plt.show()\n"
   ]
  },
  {
   "cell_type": "code",
   "execution_count": 45,
   "metadata": {},
   "outputs": [
    {
     "name": "stdout",
     "output_type": "stream",
     "text": [
      "Annotators, who had high accuracy and took low avg.annotation time are good.\n",
      " ['annotator_01', 'annotator_13', 'annotator_20']\n",
      "Annotators, who had low accuracy and took long avg.annotation time are bad.\n",
      " ['annotator_06', 'annotator_07']\n"
     ]
    }
   ],
   "source": [
    "# find out annotator with high accuracy and low avg.duration\n",
    "accu_q1 = stats_user['accuracy'].quantile(q=0.25)\n",
    "accu_q3 = stats_user['accuracy'].quantile(q=0.75)\n",
    "dura_q1 = stats_user['avg.duration'].quantile(q=0.25)\n",
    "dura_q3 = stats_user['avg.duration'].quantile(q=0.75)\n",
    "top_users = stats_user.loc[(stats_user['accuracy']>=accu_q3) & (stats_user['avg.duration']<=dura_q1)]\n",
    "bad_users = stats_user.loc[(stats_user['accuracy']<=accu_q1) & (stats_user['avg.duration']>=dura_q3)]\n",
    "\n",
    "\n",
    "print(\"Annotators, who had high accuracy and took low avg.annotation time are good.\\n\", list(top_users['user']))\n",
    "print(\"Annotators, who had low accuracy and took long avg.annotation time are bad.\\n\", list(bad_users['user']))"
   ]
  },
  {
   "cell_type": "code",
   "execution_count": 46,
   "metadata": {},
   "outputs": [
    {
     "name": "stdout",
     "output_type": "stream",
     "text": [
      "            user  total amount  positive amount  correct amount  avg.duration  \\\n",
      "0   annotator_01          1280              673            1214       1077.32   \n",
      "12  annotator_13          7078             3497            6702       1155.01   \n",
      "19  annotator_20          6125             3048            5809       1173.21   \n",
      "\n",
      "    accuracy  precision  recall  \n",
      "0       0.95       0.94    0.96  \n",
      "12      0.95       0.95    0.94  \n",
      "19      0.95       0.95    0.95  \n"
     ]
    }
   ],
   "source": [
    "print(top_users)"
   ]
  },
  {
   "cell_type": "code",
   "execution_count": 47,
   "metadata": {},
   "outputs": [
    {
     "name": "stdout",
     "output_type": "stream",
     "text": [
      "           user  total amount  positive amount  correct amount  avg.duration  \\\n",
      "5  annotator_06          5336             2901            4945       1496.94   \n",
      "6  annotator_07          2174             1130            1990       1578.35   \n",
      "\n",
      "   accuracy  precision  recall  \n",
      "5      0.93       0.90    0.96  \n",
      "6      0.92       0.91    0.93  \n"
     ]
    }
   ],
   "source": [
    "print(bad_users)"
   ]
  },
  {
   "cell_type": "markdown",
   "metadata": {},
   "source": [
    "************************"
   ]
  },
  {
   "cell_type": "markdown",
   "metadata": {},
   "source": [
    "### Recycle Bin"
   ]
  },
  {
   "cell_type": "markdown",
   "metadata": {},
   "source": [
    "##### Tester crowd_extractor\n",
    "```python\n",
    "testinfo = crowd_extractor(crowds['7e8984b6-dff7-4015-865a-b721a2faf681'])\n",
    "'''\n",
    "testinfo = pd.DataFrame(\n",
    "    testinfo, columns=[\n",
    "        'image','user','answer','solvable','corrupt','duration'\n",
    "    ]\n",
    ")\n",
    "'''\n",
    "testinfo\n",
    "```"
   ]
  },
  {
   "cell_type": "markdown",
   "metadata": {},
   "source": [
    "##### Tester statistics\n",
    "```python\n",
    "#inst='image'\n",
    "inst='user'\n",
    "\n",
    "ll = list(set(data[inst]))\n",
    "nn = np.random.randint(0, len(ll)+1)\n",
    "print(\"instance: \", ll[nn])\n",
    "\n",
    "nna = list(data[inst]).count(ll[nn])\n",
    "print(\"amount answer: \", nna)\n",
    "\n",
    "nnp = list(data['answer'].loc[data[inst]==ll[nn]]).count(1)\n",
    "print(\"positive answer: \", nnp)\n",
    "\n",
    "nnc = list(data['correct'].loc[data[inst]==ll[nn]]).count(1)\n",
    "print(\"right answer: \", nnc)\n",
    "\n",
    "accu = np.mean(list(data['correct'].loc[data[inst]==ll[nn]]))\n",
    "print(\"accuracy: {}%\".format(round(accu*100, 2)))\n",
    "\n",
    "n_tp = len(data_fix[(data_fix['reference']==1) & (data_fix['answer']==1)].loc[data_fix['user']=='annotator_06'])\n",
    "\n",
    "prec = n_tp/len(data_fix[(data_fix['answer']==1)].loc[data_fix['user']=='annotator_06'])\n",
    "\n",
    "rec = n_tp/len(data_fix[(data_fix['reference']==1)].loc[data_fix['user']=='annotator_06'])\n",
    "\n",
    "np.mean(data_fix['reference'].loc[data_fix['image']=='img_8292'])\n",
    "\n",
    "data.loc[data[inst]==ll[nn]]\n",
    "```"
   ]
  },
  {
   "cell_type": "markdown",
   "metadata": {},
   "source": [
    "##### prototype of statistic_master (not used)\n",
    "```python\n",
    "# count the amount of results for each annotator\n",
    "def count_results(df=data, col='user', sort=True):\n",
    "    amounts = []   \n",
    "    # deduplication of chosen column and sort \n",
    "    inst_list = list(set(df[col]))\n",
    "    if sort == True:\n",
    "        inst_list.sort()\n",
    "    \n",
    "    for inst in inst_list:\n",
    "        amounts.append(list(df[col]).count(inst))        \n",
    "    # save in DataFrame\n",
    "    result = pd.DataFrame(\n",
    "        amounts, \n",
    "        columns=['amounts'], \n",
    "        index=inst_list\n",
    "    )\n",
    "    \n",
    "    return result\n",
    "\n",
    "count = count_results()\n",
    "print(\"The amounts of results produced by every annotators:\\n\", count)\n",
    "```"
   ]
  },
  {
   "cell_type": "markdown",
   "metadata": {},
   "source": [
    "##### Tester DataFrame\n",
    "```python\n",
    "df1=pd.DataFrame([[1,2,3],[4,5,6],[7,8,9]], columns=['co1','co2','co3'])\n",
    "l4 = [4,4,4]\n",
    "l5 = [5,5,5]\n",
    "l6 = ['yes','no','']\n",
    "df1['co4'] = l4\n",
    "df1 = df1.assign(co5=l5, co6=l6)\n",
    "num_encode = {'co6' : {'yes':1, 'no':0, '':np.nan}}\n",
    "df1.replace(num_encode, inplace=True)\n",
    "df1\n",
    "```"
   ]
  },
  {
   "cell_type": "markdown",
   "metadata": {},
   "source": [
    "##### Transfer 'yes/no' to '1/0', NaN if no answer\n",
    "```python\n",
    "def answer_transfer(ans):\n",
    "    if str(ans).lower() == 'yes':\n",
    "        new_ans = int(1)\n",
    "    elif str(ans).lower() == 'no':\n",
    "        new_ans = int(0)\n",
    "    else:\n",
    "        new_ans = np.nan\n",
    "        \n",
    "    return new_ans\n",
    "```"
   ]
  },
  {
   "cell_type": "markdown",
   "metadata": {},
   "source": [
    "##### Tester add reference column\n",
    "```python\n",
    "# add column of references for images\n",
    "stat_image['reference'] = stat_image.apply(\n",
    "    lambda x: int(ref[x[0]]['is_bicycle']), \n",
    "    axis=1\n",
    ")\n",
    "```"
   ]
  },
  {
   "cell_type": "markdown",
   "metadata": {},
   "source": [
    "#### Get statistical information by annotator or images/questions (old version)\n",
    "```python\n",
    "def statistic_master(df=data_fix, col='user', sort=True):\n",
    "    start = time()\n",
    "    '''\n",
    "    This function is used to get statistic information from the data set, like:\n",
    "        - amount of annotations by selected category\n",
    "        - amount of positive annotations\n",
    "        - amount of correct annotations\n",
    "        - accuracy of annotation by selected category\n",
    "        - average duration\n",
    "        - precision\n",
    "        - recall\n",
    "    Argument col could take 'user' or 'image'\n",
    "    The output is a pandas.DataFrame.\n",
    "    '''\n",
    "    amounts = []\n",
    "    pos = []\n",
    "    corr = []\n",
    "    accu = []\n",
    "    dura = []\n",
    "    ref = []\n",
    "    preci = []\n",
    "    rec = []\n",
    "    \n",
    "    # deduplication of chosen column and sort \n",
    "    inst_list = list(set(df[col]))\n",
    "    if sort == True:\n",
    "        inst_list.sort()\n",
    "    \n",
    "    total = len(inst_list)\n",
    "    i = 0\n",
    "    for inst in inst_list:\n",
    "        i += 1\n",
    "        percent = round(1.0 * i / total * 100, 2)\n",
    "        \n",
    "        n_tp = len(df[(df['answer']==1) & (df['reference']==1)].loc[df[col]==inst])\n",
    "        \n",
    "        # collect the statistic informations\n",
    "        amounts.append(\n",
    "            list(df[col]).count(inst)\n",
    "        )\n",
    "        pos.append(\n",
    "            list(df['answer'].loc[df[col]==inst]).count(1)\n",
    "        )\n",
    "        corr.append(\n",
    "            list(df['correct'].loc[df[col]==inst]).count(1)\n",
    "        )\n",
    "        accu.append(\n",
    "            round(np.mean(df['correct'].loc[df[col]==inst]), 2)\n",
    "        )\n",
    "        dura.append(\n",
    "            round(np.mean(df['duration'].loc[df[col]==inst]), 2)\n",
    "        )\n",
    "        ref.append(\n",
    "            int(np.mean(df['reference'].loc[df[col]==inst]))\n",
    "        )\n",
    "        if col=='user':\n",
    "            preci.append(\n",
    "                round(n_tp/len(df[(df['answer']==1)].loc[df[col]==inst]), 2)\n",
    "            )\n",
    "            rec.append(\n",
    "                round(n_tp/len(df[(df['reference']==1)].loc[df[col]==inst]), 2)\n",
    "            )\n",
    "        print(\n",
    "            \"Processing: {0}, {1} [{2}/{3}]\".format(inst, str(percent)+'%', i, total), \n",
    "            end=\"\\r\"\n",
    "        )\n",
    "        #time.sleep(0.01)\n",
    "    print(\"Processing done! {:.2f} seconds passed.\".format((time() - start)), end=\"\\r\")\n",
    "        \n",
    "    # save in DataFrame\n",
    "    result = pd.DataFrame(\n",
    "        {\n",
    "            'instance': inst_list,\n",
    "            'total': amounts,\n",
    "            'duration': dura,\n",
    "            'positive': pos,\n",
    "            'correct': corr,\n",
    "            'accuracy': accu\n",
    "        }\n",
    "    )\n",
    "    '''\n",
    "    # add percent sign\n",
    "    result.loc[:, 'accuracy'] = result.loc[:, 'accuracy'].apply(\n",
    "        lambda x: \"{:.2f}%\".format(x)\n",
    "    )\n",
    "    '''\n",
    "    if col=='user':\n",
    "        result = result.assign(\n",
    "            precision = preci,\n",
    "            recall = rec\n",
    "        )\n",
    "    if col=='image':\n",
    "        result['reference'] = ref\n",
    "        \n",
    "    return result\n",
    "```"
   ]
  },
  {
   "cell_type": "markdown",
   "metadata": {},
   "source": [
    "#### Verified precision and recall with scikit-learn\n",
    "```python\n",
    "inst='user'\n",
    "ul = list(set(data_fix[inst]))\n",
    "nn = np.random.randint(0, len(ul))\n",
    "print(\"instance: \", ul[nn])\n",
    "\n",
    "y_pred = list(data_fix['answer'].loc[data_fix[inst]==ul[nn]])\n",
    "y_true = list(data_fix['reference'].loc[data_fix[inst]==ul[nn]])\n",
    "\n",
    "tn, fp, fn, tp = confusion_matrix(y_true, y_pred).ravel()\n",
    "\n",
    "prec = tp/(tp+fp)\n",
    "rec = tp/(tp+fn)\n",
    "accu = (tp+tn)/(tn+fp+fn+tp)\n",
    "\n",
    "print(\"accuracy:\", accu)\n",
    "print(\"precision:\", prec)\n",
    "print(\"recall:\", rec)\n",
    "```"
   ]
  }
 ],
 "metadata": {
  "kernelspec": {
   "display_name": "Python 3",
   "language": "python",
   "name": "python3"
  },
  "language_info": {
   "codemirror_mode": {
    "name": "ipython",
    "version": 3
   },
   "file_extension": ".py",
   "mimetype": "text/x-python",
   "name": "python",
   "nbconvert_exporter": "python",
   "pygments_lexer": "ipython3",
   "version": "3.8.5"
  }
 },
 "nbformat": 4,
 "nbformat_minor": 4
}
